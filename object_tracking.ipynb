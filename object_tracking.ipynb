{
 "cells": [
  {
   "cell_type": "markdown",
   "id": "5bfff01c-21b1-4331-9c03-f534c1d7e2a1",
   "metadata": {},
   "source": [
    "# Tracker Class in OpenCV\n",
    "\n",
    "1. BOOSTING\n",
    "2. MIL \n",
    "3. KCF \n",
    "4. CRST\n",
    "4. TLD \n",
    " * Tends to recover from occulusions\n",
    "5. MEDIANFLOW \n",
    " * Good for predictable slow motion\n",
    "6. GOTURN\n",
    " * Deep Learning based\n",
    " * Most Accurate \n",
    "7. MOSSE\n",
    " * Fastest"
   ]
  },
  {
   "cell_type": "code",
   "execution_count": null,
   "id": "851af46a-34a9-42f4-a0f8-4ca65ef9c1e3",
   "metadata": {},
   "outputs": [],
   "source": []
  }
 ],
 "metadata": {
  "kernelspec": {
   "display_name": "env",
   "language": "python",
   "name": "env"
  },
  "language_info": {
   "codemirror_mode": {
    "name": "ipython",
    "version": 3
   },
   "file_extension": ".py",
   "mimetype": "text/x-python",
   "name": "python",
   "nbconvert_exporter": "python",
   "pygments_lexer": "ipython3",
   "version": "3.10.12"
  }
 },
 "nbformat": 4,
 "nbformat_minor": 5
}
