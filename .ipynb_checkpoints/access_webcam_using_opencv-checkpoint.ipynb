{
 "cells": [
  {
   "cell_type": "code",
   "execution_count": 1,
   "id": "873b100b-657c-4635-a47a-575e0576630e",
   "metadata": {},
   "outputs": [],
   "source": [
    "import cv2\n",
    "import sys"
   ]
  },
  {
   "cell_type": "code",
   "execution_count": 2,
   "id": "cce4cbf2-2b80-4fc3-a969-efa623ea9c3b",
   "metadata": {},
   "outputs": [],
   "source": [
    "s = 0\n",
    "if len(sys.argv) > 1:\n",
    "    s = sys.argv[1]"
   ]
  },
  {
   "cell_type": "code",
   "execution_count": 9,
   "id": "25cde98a-7b87-4685-849f-057d730b452c",
   "metadata": {},
   "outputs": [],
   "source": [
    "source = cv2.VideoCapture(s)"
   ]
  },
  {
   "cell_type": "code",
   "execution_count": 8,
   "id": "e2379e16-3754-4142-99aa-c206732986e3",
   "metadata": {},
   "outputs": [],
   "source": [
    "win_name = 'Camera Preview'\n",
    "cv2.namedWindow(win_name, cv2.WINDOW_NORMAL)\n",
    "while cv2.waitKey(1) != 27: #escape\n",
    "    has_frame, frame = source.read()\n",
    "    if not has_frame:\n",
    "        break\n",
    "    cv2.imshow(win_name, frame)\n",
    "\n",
    "source.release()\n",
    "cv2.destroyWindow(win_name)"
   ]
  },
  {
   "cell_type": "code",
   "execution_count": 16,
   "id": "2ef83168-cc3e-4c50-bed2-75d8d1659753",
   "metadata": {},
   "outputs": [
    {
     "name": "stdout",
     "output_type": "stream",
     "text": [
      "Error: Could not open webcam.\n"
     ]
    },
    {
     "name": "stderr",
     "output_type": "stream",
     "text": [
      "[ WARN:0@383.526] global cap_v4l.cpp:999 open VIDEOIO(V4L2:/dev/video0): can't open camera by index\n",
      "[ERROR:0@383.527] global obsensor_uvc_stream_channel.cpp:158 getStreamChannelGroup Camera index out of range\n"
     ]
    }
   ],
   "source": [
    "# the code works in jupyter notebook, the above code works when run as a python file , because it needs gui for preview\n",
    "import cv2\n",
    "import numpy as np\n",
    "import matplotlib.pyplot as plt\n",
    "from IPython.display import display, clear_output\n",
    "\n",
    "# Open the default webcam (index 0)\n",
    "cap = cv2.VideoCapture(0)\n",
    "\n",
    "# Check if the webcam is opened correctly\n",
    "if not cap.isOpened():\n",
    "    print(\"Error: Could not open webcam.\")\n",
    "else:\n",
    "    # Set up the plot for displaying the video\n",
    "    plt.ion()  # Turn on interactive mode for continuous updating\n",
    "    fig, ax = plt.subplots()\n",
    "    im = ax.imshow(np.zeros((480, 640, 3), dtype=np.uint8))  # Initialize with an empty frame\n",
    "\n",
    "    while True:\n",
    "        ret, frame = cap.read()  # Read a frame from the webcam\n",
    "        if not ret:\n",
    "            print(\"Error: Failed to capture image.\")\n",
    "            break\n",
    "        \n",
    "        # Convert from BGR (OpenCV format) to RGB (matplotlib format)\n",
    "        frame_rgb = cv2.cvtColor(frame, cv2.COLOR_BGR2RGB)\n",
    "        \n",
    "        # Update the image data\n",
    "        im.set_data(frame_rgb)\n",
    "        \n",
    "        # Redraw the image\n",
    "        display(fig)\n",
    "        clear_output(wait=True)\n",
    "\n",
    "    # Release the capture and close the plot window\n",
    "    cap.release()\n",
    "    plt.close()\n"
   ]
  },
  {
   "cell_type": "code",
   "execution_count": null,
   "id": "c9f207d7-d90c-48bf-a0b9-cf46512f2330",
   "metadata": {},
   "outputs": [],
   "source": []
  }
 ],
 "metadata": {
  "kernelspec": {
   "display_name": "Python 3 (ipykernel)",
   "language": "python",
   "name": "python3"
  },
  "language_info": {
   "codemirror_mode": {
    "name": "ipython",
    "version": 3
   },
   "file_extension": ".py",
   "mimetype": "text/x-python",
   "name": "python",
   "nbconvert_exporter": "python",
   "pygments_lexer": "ipython3",
   "version": "3.10.12"
  }
 },
 "nbformat": 4,
 "nbformat_minor": 5
}
